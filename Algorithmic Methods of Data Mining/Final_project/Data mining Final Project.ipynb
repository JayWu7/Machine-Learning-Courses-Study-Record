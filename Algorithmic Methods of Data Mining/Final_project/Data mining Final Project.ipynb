{
 "cells": [
  {
   "cell_type": "markdown",
   "metadata": {},
   "source": [
    "# Data Mining Programming Project - Graph Partition\n",
    "\n",
    "Name: **Xiaobo Wu**   \n",
    "Student Number: **795962**   \n",
    "Email: **xiaobo.wu@aalto.fi**   "
   ]
  },
  {
   "cell_type": "markdown",
   "metadata": {},
   "source": [
    "## 1. Introduction"
   ]
  },
  {
   "cell_type": "markdown",
   "metadata": {},
   "source": [
    "Graph partition is the reduction of a graph to sorts of smaller graphs by partitioning its nodes to mutually related groups. Problems of graph partitioning arise in various fields of computer science, engineering and other related areas. For example, partition the web into sets of related pages (web graph), find groups of scientists who collaborate with each other, find groups of related queries submitted in a search engine (query graph) and so on. There has been a huge amount of research on graph partitioning in the history of graph theory. Proposed methods that are able to obtain good partition result for large real world graphs are generally derived using heuristics and approximation algorithms. As we used eigenvectors to solve this problems, our method are belongs to heuristics algorithms and it has a nice performances with a huge comsuming of running time and memory space.In this project, I focus on using eigenvectors and K-means clustering method to partion a set of vertices V into k groups $V_1, V_2,..., V_k$ in an undirected graph G = (V, E). The detailed steps of algorithm I used was disscuss clearly in the lecture of Data Mining. I implemented it by Python3 with the help of some famous packages, Numpy, Scikit-learn and Scipy. "
   ]
  },
  {
   "cell_type": "markdown",
   "metadata": {},
   "source": [
    "## 2. Literature Review"
   ]
  },
  {
   "cell_type": "markdown",
   "metadata": {},
   "source": [
    "\n",
    "\n"
   ]
  },
  {
   "cell_type": "code",
   "execution_count": null,
   "metadata": {},
   "outputs": [],
   "source": []
  }
 ],
 "metadata": {
  "kernelspec": {
   "display_name": "Python 3",
   "language": "python",
   "name": "python3"
  },
  "language_info": {
   "codemirror_mode": {
    "name": "ipython",
    "version": 3
   },
   "file_extension": ".py",
   "mimetype": "text/x-python",
   "name": "python",
   "nbconvert_exporter": "python",
   "pygments_lexer": "ipython3",
   "version": "3.7.3"
  }
 },
 "nbformat": 4,
 "nbformat_minor": 2
}
